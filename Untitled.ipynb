{
 "cells": [
  {
   "cell_type": "code",
   "execution_count": 2,
   "metadata": {},
   "outputs": [
    {
     "name": "stdout",
     "output_type": "stream",
     "text": [
      "{}\n"
     ]
    }
   ],
   "source": [
    "s = 'Global Variable'\n",
    "\n",
    "def check_for_locals():\n",
    "    print(locals())\n",
    "    \n",
    "check_for_locals()"
   ]
  },
  {
   "cell_type": "code",
   "execution_count": 3,
   "metadata": {},
   "outputs": [
    {
     "name": "stdout",
     "output_type": "stream",
     "text": [
      "{'__name__': '__main__', '__doc__': 'Automatically created module for IPython interactive environment', '__package__': None, '__loader__': None, '__spec__': None, '__builtin__': <module 'builtins' (built-in)>, '__builtins__': <module 'builtins' (built-in)>, '_ih': ['', \"s = 'Global Variable'\\n\\ndef check_for_locals():\\n    print(locals())\", \"s = 'Global Variable'\\n\\ndef check_for_locals():\\n    print(locals())\\n    \\ncheck_for_locals()\", 'print(globals())'], '_oh': {}, '_dh': ['C:\\\\Users\\\\admin\\\\Desktop\\\\New folder (7)\\\\10-Python Decorators'], 'In': ['', \"s = 'Global Variable'\\n\\ndef check_for_locals():\\n    print(locals())\", \"s = 'Global Variable'\\n\\ndef check_for_locals():\\n    print(locals())\\n    \\ncheck_for_locals()\", 'print(globals())'], 'Out': {}, 'get_ipython': <bound method InteractiveShell.get_ipython of <ipykernel.zmqshell.ZMQInteractiveShell object at 0x0000020EEF7E3E48>>, 'exit': <IPython.core.autocall.ZMQExitAutocall object at 0x0000020EEF8541C8>, 'quit': <IPython.core.autocall.ZMQExitAutocall object at 0x0000020EEF8541C8>, '_': '', '__': '', '___': '', '_i': \"s = 'Global Variable'\\n\\ndef check_for_locals():\\n    print(locals())\\n    \\ncheck_for_locals()\", '_ii': \"s = 'Global Variable'\\n\\ndef check_for_locals():\\n    print(locals())\", '_iii': '', '_i1': \"s = 'Global Variable'\\n\\ndef check_for_locals():\\n    print(locals())\", 's': 'Global Variable', 'check_for_locals': <function check_for_locals at 0x0000020EEF952168>, '_i2': \"s = 'Global Variable'\\n\\ndef check_for_locals():\\n    print(locals())\\n    \\ncheck_for_locals()\", '_i3': 'print(globals())'}\n"
     ]
    }
   ],
   "source": [
    "print(globals())"
   ]
  },
  {
   "cell_type": "code",
   "execution_count": null,
   "metadata": {},
   "outputs": [],
   "source": []
  }
 ],
 "metadata": {
  "kernelspec": {
   "display_name": "Python 3",
   "language": "python",
   "name": "python3"
  },
  "language_info": {
   "codemirror_mode": {
    "name": "ipython",
    "version": 3
   },
   "file_extension": ".py",
   "mimetype": "text/x-python",
   "name": "python",
   "nbconvert_exporter": "python",
   "pygments_lexer": "ipython3",
   "version": "3.7.4"
  }
 },
 "nbformat": 4,
 "nbformat_minor": 2
}
